{
 "cells": [
  {
   "cell_type": "markdown",
   "metadata": {},
   "source": [
    "# Get Starting"
   ]
  },
  {
   "cell_type": "code",
   "execution_count": 49,
   "metadata": {
    "collapsed": false
   },
   "outputs": [
    {
     "data": {
      "text/html": [
       "<div>\n",
       "<table border=\"1\" class=\"dataframe\">\n",
       "  <thead>\n",
       "    <tr style=\"text-align: right;\">\n",
       "      <th></th>\n",
       "      <th>Year</th>\n",
       "      <th>Category</th>\n",
       "      <th>Nominee</th>\n",
       "      <th>Additional Info</th>\n",
       "      <th>Won?</th>\n",
       "      <th>Unnamed: 5</th>\n",
       "      <th>Unnamed: 6</th>\n",
       "      <th>Unnamed: 7</th>\n",
       "      <th>Unnamed: 8</th>\n",
       "      <th>Unnamed: 9</th>\n",
       "      <th>Unnamed: 10</th>\n",
       "    </tr>\n",
       "  </thead>\n",
       "  <tbody>\n",
       "    <tr>\n",
       "      <th>0</th>\n",
       "      <td>2010 (83rd)</td>\n",
       "      <td>Actor -- Leading Role</td>\n",
       "      <td>Javier Bardem</td>\n",
       "      <td>Biutiful {'Uxbal'}</td>\n",
       "      <td>NO</td>\n",
       "      <td>NaN</td>\n",
       "      <td>NaN</td>\n",
       "      <td>NaN</td>\n",
       "      <td>NaN</td>\n",
       "      <td>NaN</td>\n",
       "      <td>NaN</td>\n",
       "    </tr>\n",
       "    <tr>\n",
       "      <th>1</th>\n",
       "      <td>2010 (83rd)</td>\n",
       "      <td>Actor -- Leading Role</td>\n",
       "      <td>Jeff Bridges</td>\n",
       "      <td>True Grit {'Rooster Cogburn'}</td>\n",
       "      <td>NO</td>\n",
       "      <td>NaN</td>\n",
       "      <td>NaN</td>\n",
       "      <td>NaN</td>\n",
       "      <td>NaN</td>\n",
       "      <td>NaN</td>\n",
       "      <td>NaN</td>\n",
       "    </tr>\n",
       "  </tbody>\n",
       "</table>\n",
       "</div>"
      ],
      "text/plain": [
       "          Year               Category        Nominee  \\\n",
       "0  2010 (83rd)  Actor -- Leading Role  Javier Bardem   \n",
       "1  2010 (83rd)  Actor -- Leading Role   Jeff Bridges   \n",
       "\n",
       "                 Additional Info Won? Unnamed: 5 Unnamed: 6 Unnamed: 7  \\\n",
       "0             Biutiful {'Uxbal'}   NO        NaN        NaN        NaN   \n",
       "1  True Grit {'Rooster Cogburn'}   NO        NaN        NaN        NaN   \n",
       "\n",
       "  Unnamed: 8 Unnamed: 9 Unnamed: 10  \n",
       "0        NaN        NaN         NaN  \n",
       "1        NaN        NaN         NaN  "
      ]
     },
     "execution_count": 49,
     "metadata": {},
     "output_type": "execute_result"
    }
   ],
   "source": [
    "import pandas as pd\n",
    "df = pd.read_csv('academy_awards.csv', encoding='ISO-8859-1')\n",
    "df.head(2)"
   ]
  },
  {
   "cell_type": "markdown",
   "metadata": {},
   "source": [
    "## Filtering The Data"
   ]
  },
  {
   "cell_type": "code",
   "execution_count": 50,
   "metadata": {
    "collapsed": false
   },
   "outputs": [
    {
     "data": {
      "text/html": [
       "<div>\n",
       "<table border=\"1\" class=\"dataframe\">\n",
       "  <thead>\n",
       "    <tr style=\"text-align: right;\">\n",
       "      <th></th>\n",
       "      <th>Year</th>\n",
       "      <th>Category</th>\n",
       "      <th>Nominee</th>\n",
       "      <th>Additional Info</th>\n",
       "      <th>Won?</th>\n",
       "      <th>Unnamed: 5</th>\n",
       "      <th>Unnamed: 6</th>\n",
       "      <th>Unnamed: 7</th>\n",
       "      <th>Unnamed: 8</th>\n",
       "      <th>Unnamed: 9</th>\n",
       "      <th>Unnamed: 10</th>\n",
       "    </tr>\n",
       "  </thead>\n",
       "  <tbody>\n",
       "    <tr>\n",
       "      <th>0</th>\n",
       "      <td>2010</td>\n",
       "      <td>Actor -- Leading Role</td>\n",
       "      <td>Javier Bardem</td>\n",
       "      <td>Biutiful {'Uxbal'}</td>\n",
       "      <td>NO</td>\n",
       "      <td>NaN</td>\n",
       "      <td>NaN</td>\n",
       "      <td>NaN</td>\n",
       "      <td>NaN</td>\n",
       "      <td>NaN</td>\n",
       "      <td>NaN</td>\n",
       "    </tr>\n",
       "    <tr>\n",
       "      <th>1</th>\n",
       "      <td>2010</td>\n",
       "      <td>Actor -- Leading Role</td>\n",
       "      <td>Jeff Bridges</td>\n",
       "      <td>True Grit {'Rooster Cogburn'}</td>\n",
       "      <td>NO</td>\n",
       "      <td>NaN</td>\n",
       "      <td>NaN</td>\n",
       "      <td>NaN</td>\n",
       "      <td>NaN</td>\n",
       "      <td>NaN</td>\n",
       "      <td>NaN</td>\n",
       "    </tr>\n",
       "  </tbody>\n",
       "</table>\n",
       "</div>"
      ],
      "text/plain": [
       "   Year               Category        Nominee                Additional Info  \\\n",
       "0  2010  Actor -- Leading Role  Javier Bardem             Biutiful {'Uxbal'}   \n",
       "1  2010  Actor -- Leading Role   Jeff Bridges  True Grit {'Rooster Cogburn'}   \n",
       "\n",
       "  Won? Unnamed: 5 Unnamed: 6 Unnamed: 7 Unnamed: 8 Unnamed: 9 Unnamed: 10  \n",
       "0   NO        NaN        NaN        NaN        NaN        NaN         NaN  \n",
       "1   NO        NaN        NaN        NaN        NaN        NaN         NaN  "
      ]
     },
     "execution_count": 50,
     "metadata": {},
     "output_type": "execute_result"
    }
   ],
   "source": [
    "df['Year'] = df['Year'].str[0:4]\n",
    "df['Year'] = df['Year'].astype('int64')\n",
    "\n",
    "later_than_2000 = df[df['Year'] > 2000]\n",
    "\n",
    "award_categories = ['Actor -- Leading Role', 'Actor -- Supporting Role',\n",
    "                   'Actress -- Leading Role', 'Actress -- Supporting Role']\n",
    "nominations = later_than_2000[later_than_2000['Category'].isin(award_categories)]\n",
    "nominations.head(2)"
   ]
  },
  {
   "cell_type": "markdown",
   "metadata": {},
   "source": [
    "## Cleaning Up Unnamed Columns"
   ]
  },
  {
   "cell_type": "code",
   "execution_count": 51,
   "metadata": {
    "collapsed": false,
    "scrolled": false
   },
   "outputs": [
    {
     "name": "stderr",
     "output_type": "stream",
     "text": [
      "/dataquest/system/env/python3/lib/python3.4/site-packages/pandas/core/indexing.py:297: SettingWithCopyWarning: \n",
      "A value is trying to be set on a copy of a slice from a DataFrame.\n",
      "Try using .loc[row_indexer,col_indexer] = value instead\n",
      "\n",
      "See the caveats in the documentation: http://pandas.pydata.org/pandas-docs/stable/indexing.html#indexing-view-versus-copy\n",
      "  self.obj[key] = _infer_fill_value(value)\n",
      "/dataquest/system/env/python3/lib/python3.4/site-packages/pandas/core/indexing.py:477: SettingWithCopyWarning: \n",
      "A value is trying to be set on a copy of a slice from a DataFrame.\n",
      "Try using .loc[row_indexer,col_indexer] = value instead\n",
      "\n",
      "See the caveats in the documentation: http://pandas.pydata.org/pandas-docs/stable/indexing.html#indexing-view-versus-copy\n",
      "  self.obj[item] = s\n"
     ]
    },
    {
     "data": {
      "text/html": [
       "<div>\n",
       "<table border=\"1\" class=\"dataframe\">\n",
       "  <thead>\n",
       "    <tr style=\"text-align: right;\">\n",
       "      <th></th>\n",
       "      <th>Year</th>\n",
       "      <th>Category</th>\n",
       "      <th>Nominee</th>\n",
       "      <th>Additional Info</th>\n",
       "      <th>Won</th>\n",
       "    </tr>\n",
       "  </thead>\n",
       "  <tbody>\n",
       "    <tr>\n",
       "      <th>0</th>\n",
       "      <td>2010</td>\n",
       "      <td>Actor -- Leading Role</td>\n",
       "      <td>Javier Bardem</td>\n",
       "      <td>Biutiful {'Uxbal'}</td>\n",
       "      <td>0</td>\n",
       "    </tr>\n",
       "    <tr>\n",
       "      <th>1</th>\n",
       "      <td>2010</td>\n",
       "      <td>Actor -- Leading Role</td>\n",
       "      <td>Jeff Bridges</td>\n",
       "      <td>True Grit {'Rooster Cogburn'}</td>\n",
       "      <td>0</td>\n",
       "    </tr>\n",
       "  </tbody>\n",
       "</table>\n",
       "</div>"
      ],
      "text/plain": [
       "   Year               Category        Nominee                Additional Info  \\\n",
       "0  2010  Actor -- Leading Role  Javier Bardem             Biutiful {'Uxbal'}   \n",
       "1  2010  Actor -- Leading Role   Jeff Bridges  True Grit {'Rooster Cogburn'}   \n",
       "\n",
       "   Won  \n",
       "0    0  \n",
       "1    0  "
      ]
     },
     "execution_count": 51,
     "metadata": {},
     "output_type": "execute_result"
    }
   ],
   "source": [
    "map_dict = {'YES': 1, 'NO': 0}\n",
    "nominations.loc[:, 'Won'] = nominations.loc[:, 'Won?'].map(map_dict)\n",
    "drop_c = ['Won?', 'Unnamed: 5', 'Unnamed: 6', 'Unnamed: 7', 'Unnamed: 8',\n",
    "         'Unnamed: 9', 'Unnamed: 10']\n",
    "final_nominations = nominations.drop(drop_c, axis=1)\n",
    "final_nominations.head(2)"
   ]
  },
  {
   "cell_type": "markdown",
   "metadata": {
    "collapsed": true
   },
   "source": [
    "## Cleaning Up The Additional Info Column"
   ]
  },
  {
   "cell_type": "code",
   "execution_count": 52,
   "metadata": {
    "collapsed": false
   },
   "outputs": [
    {
     "data": {
      "text/html": [
       "<div>\n",
       "<table border=\"1\" class=\"dataframe\">\n",
       "  <thead>\n",
       "    <tr style=\"text-align: right;\">\n",
       "      <th></th>\n",
       "      <th>Year</th>\n",
       "      <th>Category</th>\n",
       "      <th>Nominee</th>\n",
       "      <th>Additional Info</th>\n",
       "      <th>Won</th>\n",
       "      <th>Movie</th>\n",
       "      <th>Character</th>\n",
       "    </tr>\n",
       "  </thead>\n",
       "  <tbody>\n",
       "    <tr>\n",
       "      <th>0</th>\n",
       "      <td>2010</td>\n",
       "      <td>Actor -- Leading Role</td>\n",
       "      <td>Javier Bardem</td>\n",
       "      <td>Biutiful {'Uxbal'}</td>\n",
       "      <td>0</td>\n",
       "      <td>Biutiful</td>\n",
       "      <td>Uxbal</td>\n",
       "    </tr>\n",
       "    <tr>\n",
       "      <th>1</th>\n",
       "      <td>2010</td>\n",
       "      <td>Actor -- Leading Role</td>\n",
       "      <td>Jeff Bridges</td>\n",
       "      <td>True Grit {'Rooster Cogburn'}</td>\n",
       "      <td>0</td>\n",
       "      <td>True Grit</td>\n",
       "      <td>Rooster Cogburn</td>\n",
       "    </tr>\n",
       "  </tbody>\n",
       "</table>\n",
       "</div>"
      ],
      "text/plain": [
       "   Year               Category        Nominee                Additional Info  \\\n",
       "0  2010  Actor -- Leading Role  Javier Bardem             Biutiful {'Uxbal'}   \n",
       "1  2010  Actor -- Leading Role   Jeff Bridges  True Grit {'Rooster Cogburn'}   \n",
       "\n",
       "   Won      Movie        Character  \n",
       "0    0   Biutiful            Uxbal  \n",
       "1    0  True Grit  Rooster Cogburn  "
      ]
     },
     "execution_count": 52,
     "metadata": {},
     "output_type": "execute_result"
    }
   ],
   "source": [
    "additional_info_one = final_nominations['Additional Info'].str.rstrip(\" }'\")\n",
    "additional_info_two = additional_info_one.str.split(\" {'\")\n",
    "final_nominations['Movie'] = additional_info_two.str[0]\n",
    "final_nominations['Character'] = additional_info_two.str[1]\n",
    "final_nominations.drop('Additional Info', axis=1)\n",
    "final_nominations.head(2)"
   ]
  },
  {
   "cell_type": "markdown",
   "metadata": {},
   "source": [
    "## Exporting To SQLite"
   ]
  },
  {
   "cell_type": "code",
   "execution_count": 54,
   "metadata": {
    "collapsed": false
   },
   "outputs": [
    {
     "name": "stderr",
     "output_type": "stream",
     "text": [
      "/dataquest/system/env/python3/lib/python3.4/site-packages/pandas/core/generic.py:1201: UserWarning: The spaces in these column names will not be changed. In pandas versions < 0.14, spaces were converted to underscores.\n",
      "  chunksize=chunksize, dtype=dtype)\n"
     ]
    }
   ],
   "source": [
    "import sqlite3\n",
    "conn = sqlite3.connect('nominations.db')\n",
    "final_nominations.to_sql('nominations', conn, index=False)"
   ]
  },
  {
   "cell_type": "markdown",
   "metadata": {},
   "source": [
    "## Verifying In SQL"
   ]
  },
  {
   "cell_type": "code",
   "execution_count": 56,
   "metadata": {
    "collapsed": false
   },
   "outputs": [
    {
     "name": "stdout",
     "output_type": "stream",
     "text": [
      "[(0, 'Year', 'INTEGER', 0, None, 0), (1, 'Category', 'TEXT', 0, None, 0), (2, 'Nominee', 'TEXT', 0, None, 0), (3, 'Additional Info', 'TEXT', 0, None, 0), (4, 'Won', 'INTEGER', 0, None, 0), (5, 'Movie', 'TEXT', 0, None, 0), (6, 'Character', 'TEXT', 0, None, 0)]\n",
      "[(2010, 'Actor -- Leading Role', 'Javier Bardem', \"Biutiful {'Uxbal'}\", 0, 'Biutiful', 'Uxbal'), (2010, 'Actor -- Leading Role', 'Jeff Bridges', \"True Grit {'Rooster Cogburn'}\", 0, 'True Grit', 'Rooster Cogburn'), (2010, 'Actor -- Leading Role', 'Jesse Eisenberg', \"The Social Network {'Mark Zuckerberg'}\", 0, 'The Social Network', 'Mark Zuckerberg'), (2010, 'Actor -- Leading Role', 'Colin Firth', \"The King's Speech {'King George VI'}\", 1, \"The King's Speech\", 'King George VI'), (2010, 'Actor -- Leading Role', 'James Franco', \"127 Hours {'Aron Ralston'}\", 0, '127 Hours', 'Aron Ralston'), (2010, 'Actor -- Supporting Role', 'Christian Bale', \"The Fighter {'Dicky Eklund'}\", 1, 'The Fighter', 'Dicky Eklund'), (2010, 'Actor -- Supporting Role', 'John Hawkes', \"Winter's Bone {'Teardrop'}\", 0, \"Winter's Bone\", 'Teardrop'), (2010, 'Actor -- Supporting Role', 'Jeremy Renner', \"The Town {'James Coughlin'}\", 0, 'The Town', 'James Coughlin'), (2010, 'Actor -- Supporting Role', 'Mark Ruffalo', \"The Kids Are All Right {'Paul'}\", 0, 'The Kids Are All Right', 'Paul'), (2010, 'Actor -- Supporting Role', 'Geoffrey Rush', \"The King's Speech {'Lionel Logue'}\", 0, \"The King's Speech\", 'Lionel Logue'), (2010, 'Actress -- Leading Role', 'Annette Bening', \"The Kids Are All Right {'Nic'}\", 0, 'The Kids Are All Right', 'Nic'), (2010, 'Actress -- Leading Role', 'Nicole Kidman', \"Rabbit Hole {'Becca'}\", 0, 'Rabbit Hole', 'Becca'), (2010, 'Actress -- Leading Role', 'Jennifer Lawrence', \"Winter's Bone {'Ree'}\", 0, \"Winter's Bone\", 'Ree'), (2010, 'Actress -- Leading Role', 'Natalie Portman', \"Black Swan {'Nina Sayers/The Swan Queen'}\", 1, 'Black Swan', 'Nina Sayers/The Swan Queen'), (2010, 'Actress -- Leading Role', 'Michelle Williams', \"Blue Valentine {'Cindy'}\", 0, 'Blue Valentine', 'Cindy'), (2010, 'Actress -- Supporting Role', 'Amy Adams', \"The Fighter {'Charlene Fleming'}\", 0, 'The Fighter', 'Charlene Fleming'), (2010, 'Actress -- Supporting Role', 'Helena Bonham Carter', \"The King's Speech {'Queen Elizabeth'}\", 0, \"The King's Speech\", 'Queen Elizabeth'), (2010, 'Actress -- Supporting Role', 'Melissa Leo', \"The Fighter {'Alice Ward'}\", 1, 'The Fighter', 'Alice Ward'), (2010, 'Actress -- Supporting Role', 'Hailee Steinfeld', \"True Grit {'Mattie Ross'}\", 0, 'True Grit', 'Mattie Ross'), (2010, 'Actress -- Supporting Role', 'Jacki Weaver', \"Animal Kingdom {'Janine 'Smurf' Cody'}\", 0, 'Animal Kingdom', \"Janine 'Smurf' Cody\"), (2009, 'Actor -- Leading Role', 'Jeff Bridges', \"Crazy Heart {'Bad Blake'}\", 1, 'Crazy Heart', 'Bad Blake'), (2009, 'Actor -- Leading Role', 'George Clooney', \"Up in the Air {'Ryan Bingham'}\", 0, 'Up in the Air', 'Ryan Bingham'), (2009, 'Actor -- Leading Role', 'Colin Firth', \"A Single Man {'George'}\", 0, 'A Single Man', 'George'), (2009, 'Actor -- Leading Role', 'Morgan Freeman', \"Invictus {'Nelson Mandela'}\", 0, 'Invictus', 'Nelson Mandela'), (2009, 'Actor -- Leading Role', 'Jeremy Renner', \"The Hurt Locker {'Staff Sergeant William James'}\", 0, 'The Hurt Locker', 'Staff Sergeant William James'), (2009, 'Actor -- Supporting Role', 'Matt Damon', \"Invictus {'Francois Pienaar'}\", 0, 'Invictus', 'Francois Pienaar'), (2009, 'Actor -- Supporting Role', 'Woody Harrelson', \"The Messenger {'Captain Tony Stone'}\", 0, 'The Messenger', 'Captain Tony Stone'), (2009, 'Actor -- Supporting Role', 'Christopher Plummer', \"The Last Station {'Tolstoy'}\", 0, 'The Last Station', 'Tolstoy'), (2009, 'Actor -- Supporting Role', 'Stanley Tucci', \"The Lovely Bones {'George Harvey'}\", 0, 'The Lovely Bones', 'George Harvey'), (2009, 'Actor -- Supporting Role', 'Christoph Waltz', \"Inglourious Basterds {'Col. Hans Landa'}\", 1, 'Inglourious Basterds', 'Col. Hans Landa'), (2009, 'Actress -- Leading Role', 'Sandra Bullock', \"The Blind Side {'Leigh Anne Tuohy'}\", 1, 'The Blind Side', 'Leigh Anne Tuohy'), (2009, 'Actress -- Leading Role', 'Helen Mirren', \"The Last Station {'Sofya'}\", 0, 'The Last Station', 'Sofya'), (2009, 'Actress -- Leading Role', 'Carey Mulligan', \"An Education {'Jenny'}\", 0, 'An Education', 'Jenny'), (2009, 'Actress -- Leading Role', 'Gabourey Sidibe', \"Precious: Based on the Novel 'Push' by Sapphire {'Precious'}\", 0, \"Precious: Based on the Novel 'Push' by Sapphire\", 'Precious'), (2009, 'Actress -- Leading Role', 'Meryl Streep', \"Julie & Julia {'Julia Child'}\", 0, 'Julie & Julia', 'Julia Child'), (2009, 'Actress -- Supporting Role', 'Penélope Cruz', \"Nine {'Carla'}\", 0, 'Nine', 'Carla'), (2009, 'Actress -- Supporting Role', 'Vera Farmiga', \"Up in the Air {'Alex Goran'}\", 0, 'Up in the Air', 'Alex Goran'), (2009, 'Actress -- Supporting Role', 'Maggie Gyllenhaal', \"Crazy Heart {'Jean Craddock'}\", 0, 'Crazy Heart', 'Jean Craddock'), (2009, 'Actress -- Supporting Role', 'Anna Kendrick', \"Up in the Air {'Natalie Keener'}\", 0, 'Up in the Air', 'Natalie Keener'), (2009, 'Actress -- Supporting Role', \"Mo'Nique\", \"Precious: Based on the Novel 'Push' by Sapphire {'Mary'}\", 1, \"Precious: Based on the Novel 'Push' by Sapphire\", 'Mary'), (2008, 'Actor -- Leading Role', 'Richard Jenkins', \"The Visitor {'Walter'}\", 0, 'The Visitor', 'Walter'), (2008, 'Actor -- Leading Role', 'Frank Langella', \"Frost/Nixon {'Richard Nixon'}\", 0, 'Frost/Nixon', 'Richard Nixon'), (2008, 'Actor -- Leading Role', 'Sean Penn', \"Milk {'Harvey Milk'}\", 1, 'Milk', 'Harvey Milk'), (2008, 'Actor -- Leading Role', 'Brad Pitt', \"The Curious Case of Benjamin Button {'Benjamin Button'}\", 0, 'The Curious Case of Benjamin Button', 'Benjamin Button'), (2008, 'Actor -- Leading Role', 'Mickey Rourke', \"The Wrestler {'Randy'}\", 0, 'The Wrestler', 'Randy'), (2008, 'Actor -- Supporting Role', 'Josh Brolin', \"Milk {'Dan White'}\", 0, 'Milk', 'Dan White'), (2008, 'Actor -- Supporting Role', 'Robert Downey Jr.', \"Tropic Thunder {'Kirk Lazarus'}\", 0, 'Tropic Thunder', 'Kirk Lazarus'), (2008, 'Actor -- Supporting Role', 'Philip Seymour Hoffman', \"Doubt {'Father Brendan Flynn'}\", 0, 'Doubt', 'Father Brendan Flynn'), (2008, 'Actor -- Supporting Role', 'Heath Ledger', \"The Dark Knight {'Joker'}\", 1, 'The Dark Knight', 'Joker'), (2008, 'Actor -- Supporting Role', 'Michael Shannon', \"Revolutionary Road {'John Givings'}\", 0, 'Revolutionary Road', 'John Givings'), (2008, 'Actress -- Leading Role', 'Anne Hathaway', \"Rachel Getting Married {'Kym'}\", 0, 'Rachel Getting Married', 'Kym'), (2008, 'Actress -- Leading Role', 'Angelina Jolie', \"Changeling {'Christine Collins'}\", 0, 'Changeling', 'Christine Collins'), (2008, 'Actress -- Leading Role', 'Melissa Leo', \"Frozen River {'Ray Eddy'}\", 0, 'Frozen River', 'Ray Eddy'), (2008, 'Actress -- Leading Role', 'Meryl Streep', \"Doubt {'Sister Aloysius Beauvier'}\", 0, 'Doubt', 'Sister Aloysius Beauvier'), (2008, 'Actress -- Leading Role', 'Kate Winslet', \"The Reader {'Hanna Schmitz'}\", 1, 'The Reader', 'Hanna Schmitz'), (2008, 'Actress -- Supporting Role', 'Amy Adams', \"Doubt {'Sister James'}\", 0, 'Doubt', 'Sister James'), (2008, 'Actress -- Supporting Role', 'Penélope Cruz', \"Vicky Cristina Barcelona {'Maria Elena'}\", 1, 'Vicky Cristina Barcelona', 'Maria Elena'), (2008, 'Actress -- Supporting Role', 'Viola Davis', \"Doubt {'Mrs. Miller'}\", 0, 'Doubt', 'Mrs. Miller'), (2008, 'Actress -- Supporting Role', 'Taraji P. Henson', \"The Curious Case of Benjamin Button {'Queenie'}\", 0, 'The Curious Case of Benjamin Button', 'Queenie'), (2008, 'Actress -- Supporting Role', 'Marisa Tomei', \"The Wrestler {'Cassidy'}\", 0, 'The Wrestler', 'Cassidy'), (2007, 'Actor -- Leading Role', 'George Clooney', \"Michael Clayton {'Michael Clayton'}\", 0, 'Michael Clayton', 'Michael Clayton'), (2007, 'Actor -- Leading Role', 'Daniel Day-Lewis', \"There Will Be Blood {'Daniel Plainview'}\", 1, 'There Will Be Blood', 'Daniel Plainview'), (2007, 'Actor -- Leading Role', 'Johnny Depp', \"Sweeney Todd The Demon Barber of Fleet Street {'Sweeney Todd'}\", 0, 'Sweeney Todd The Demon Barber of Fleet Street', 'Sweeney Todd'), (2007, 'Actor -- Leading Role', 'Tommy Lee Jones', \"In the Valley of Elah {'Hank Deerfield'}\", 0, 'In the Valley of Elah', 'Hank Deerfield'), (2007, 'Actor -- Leading Role', 'Viggo Mortensen', \"Eastern Promises {'Nikolai'}\", 0, 'Eastern Promises', 'Nikolai'), (2007, 'Actor -- Supporting Role', 'Casey Affleck', \"The Assassination of Jesse James by the Coward Robert Ford {'Robert Ford'}\", 0, 'The Assassination of Jesse James by the Coward Robert Ford', 'Robert Ford'), (2007, 'Actor -- Supporting Role', 'Javier Bardem', \"No Country for Old Men {'Anton Chigurh'}\", 1, 'No Country for Old Men', 'Anton Chigurh'), (2007, 'Actor -- Supporting Role', 'Philip Seymour Hoffman', \"Charlie Wilson's War {'Gust Avrakotos'}\", 0, \"Charlie Wilson's War\", 'Gust Avrakotos'), (2007, 'Actor -- Supporting Role', 'Hal Holbrook', \"Into the Wild {'Ron Franz'}\", 0, 'Into the Wild', 'Ron Franz'), (2007, 'Actor -- Supporting Role', 'Tom Wilkinson', \"Michael Clayton {'Arthur Edens'}\", 0, 'Michael Clayton', 'Arthur Edens'), (2007, 'Actress -- Leading Role', 'Cate Blanchett', \"Elizabeth: The Golden Age {'Queen Elizabeth I'}\", 0, 'Elizabeth: The Golden Age', 'Queen Elizabeth I'), (2007, 'Actress -- Leading Role', 'Julie Christie', \"Away from Her {'Fiona'}\", 0, 'Away from Her', 'Fiona'), (2007, 'Actress -- Leading Role', 'Marion Cotillard', \"La Vie en Rose {'Edith Piaf'}\", 1, 'La Vie en Rose', 'Edith Piaf'), (2007, 'Actress -- Leading Role', 'Laura Linney', \"The Savages {'Wendy Savage'}\", 0, 'The Savages', 'Wendy Savage'), (2007, 'Actress -- Leading Role', 'Ellen Page', \"Juno {'Juno MacGuff'}\", 0, 'Juno', 'Juno MacGuff'), (2007, 'Actress -- Supporting Role', 'Cate Blanchett', \"I'm Not There {'Jude'}\", 0, \"I'm Not There\", 'Jude'), (2007, 'Actress -- Supporting Role', 'Ruby Dee', \"American Gangster {'Mama Lucas'}\", 0, 'American Gangster', 'Mama Lucas'), (2007, 'Actress -- Supporting Role', 'Saoirse Ronan', \"Atonement {'Briony Tallis, aged 13'}\", 0, 'Atonement', 'Briony Tallis, aged 13'), (2007, 'Actress -- Supporting Role', 'Amy Ryan', \"Gone Baby Gone {'Helene McCready'}\", 0, 'Gone Baby Gone', 'Helene McCready'), (2007, 'Actress -- Supporting Role', 'Tilda Swinton', \"Michael Clayton {'Karen Crowder'}\", 1, 'Michael Clayton', 'Karen Crowder'), (2006, 'Actor -- Leading Role', 'Leonardo DiCaprio', \"Blood Diamond {'Danny Archer'}\", 0, 'Blood Diamond', 'Danny Archer'), (2006, 'Actor -- Leading Role', 'Ryan Gosling', \"Half Nelson {'Dan Dunne'}\", 0, 'Half Nelson', 'Dan Dunne'), (2006, 'Actor -- Leading Role', \"Peter O'Toole\", \"Venus {'Maurice'}\", 0, 'Venus', 'Maurice'), (2006, 'Actor -- Leading Role', 'Will Smith', \"The Pursuit of Happyness {'Chris Gardner'}\", 0, 'The Pursuit of Happyness', 'Chris Gardner'), (2006, 'Actor -- Leading Role', 'Forest Whitaker', \"The Last King of Scotland {'Idi Amin'}\", 1, 'The Last King of Scotland', 'Idi Amin'), (2006, 'Actor -- Supporting Role', 'Alan Arkin', \"Little Miss Sunshine {'Grandpa'}\", 1, 'Little Miss Sunshine', 'Grandpa'), (2006, 'Actor -- Supporting Role', 'Jackie Earle Haley', \"Little Children {'Ronnie J. McGorvey'}\", 0, 'Little Children', 'Ronnie J. McGorvey'), (2006, 'Actor -- Supporting Role', 'Djimon Hounsou', \"Blood Diamond {'Solomon Vandy'}\", 0, 'Blood Diamond', 'Solomon Vandy'), (2006, 'Actor -- Supporting Role', 'Eddie Murphy', \"Dreamgirls {'James 'Thunder' Early'}\", 0, 'Dreamgirls', \"James 'Thunder' Early\"), (2006, 'Actor -- Supporting Role', 'Mark Wahlberg', \"The Departed {'Dignam'}\", 0, 'The Departed', 'Dignam'), (2006, 'Actress -- Leading Role', 'Penélope Cruz', \"Volver {'Raimunda'}\", 0, 'Volver', 'Raimunda'), (2006, 'Actress -- Leading Role', 'Judi Dench', \"Notes on a Scandal {'Barbara Covett'}\", 0, 'Notes on a Scandal', 'Barbara Covett'), (2006, 'Actress -- Leading Role', 'Helen Mirren', \"The Queen {'The Queen'}\", 1, 'The Queen', 'The Queen'), (2006, 'Actress -- Leading Role', 'Meryl Streep', \"The Devil Wears Prada {'Miranda Priestly'}\", 0, 'The Devil Wears Prada', 'Miranda Priestly'), (2006, 'Actress -- Leading Role', 'Kate Winslet', \"Little Children {'Sarah Pierce'}\", 0, 'Little Children', 'Sarah Pierce'), (2006, 'Actress -- Supporting Role', 'Adriana Barraza', \"Babel {'Amelia'}\", 0, 'Babel', 'Amelia'), (2006, 'Actress -- Supporting Role', 'Cate Blanchett', \"Notes on a Scandal {'Sheba Hart'}\", 0, 'Notes on a Scandal', 'Sheba Hart'), (2006, 'Actress -- Supporting Role', 'Abigail Breslin', \"Little Miss Sunshine {'Olive'}\", 0, 'Little Miss Sunshine', 'Olive'), (2006, 'Actress -- Supporting Role', 'Jennifer Hudson', \"Dreamgirls {'Effie White'}\", 1, 'Dreamgirls', 'Effie White'), (2006, 'Actress -- Supporting Role', 'Rinko Kikuchi', \"Babel {'Chieko'}\", 0, 'Babel', 'Chieko'), (2005, 'Actor -- Leading Role', 'Philip Seymour Hoffman', \"Capote {'Truman Capote'}\", 1, 'Capote', 'Truman Capote'), (2005, 'Actor -- Leading Role', 'Terrence Howard', \"Hustle & Flow {'DJay'}\", 0, 'Hustle & Flow', 'DJay'), (2005, 'Actor -- Leading Role', 'Heath Ledger', \"Brokeback Mountain {'Ennis Del Mar'}\", 0, 'Brokeback Mountain', 'Ennis Del Mar'), (2005, 'Actor -- Leading Role', 'Joaquin Phoenix', \"Walk the Line {'John R. Cash'}\", 0, 'Walk the Line', 'John R. Cash'), (2005, 'Actor -- Leading Role', 'David Strathairn', \"Good Night, and Good Luck. {'Edward R. Murrow'}\", 0, 'Good Night, and Good Luck.', 'Edward R. Murrow'), (2005, 'Actor -- Supporting Role', 'George Clooney', \"Syriana {'Bob Barnes'}\", 1, 'Syriana', 'Bob Barnes'), (2005, 'Actor -- Supporting Role', 'Matt Dillon', \"Crash {'Officer Ryan'}\", 0, 'Crash', 'Officer Ryan'), (2005, 'Actor -- Supporting Role', 'Paul Giamatti', \"Cinderella Man {'Joe Gould'}\", 0, 'Cinderella Man', 'Joe Gould'), (2005, 'Actor -- Supporting Role', 'Jake Gyllenhaal', \"Brokeback Mountain {'Jack Twist'}\", 0, 'Brokeback Mountain', 'Jack Twist'), (2005, 'Actor -- Supporting Role', 'William Hurt', \"A History of Violence {'Richie Cusack'}\", 0, 'A History of Violence', 'Richie Cusack'), (2005, 'Actress -- Leading Role', 'Judi Dench', \"Mrs. Henderson Presents {'Mrs. Laura Henderson'}\", 0, 'Mrs. Henderson Presents', 'Mrs. Laura Henderson'), (2005, 'Actress -- Leading Role', 'Felicity Huffman', \"Transamerica {'Bree'}\", 0, 'Transamerica', 'Bree'), (2005, 'Actress -- Leading Role', 'Keira Knightley', \"Pride & Prejudice {'Elizabeth Bennet'}\", 0, 'Pride & Prejudice', 'Elizabeth Bennet'), (2005, 'Actress -- Leading Role', 'Charlize Theron', \"North Country {'Josey Aimes'}\", 0, 'North Country', 'Josey Aimes'), (2005, 'Actress -- Leading Role', 'Reese Witherspoon', \"Walk the Line {'June Carter'}\", 1, 'Walk the Line', 'June Carter'), (2005, 'Actress -- Supporting Role', 'Amy Adams', \"Junebug {'Ashley'}\", 0, 'Junebug', 'Ashley'), (2005, 'Actress -- Supporting Role', 'Catherine Keener', \"Capote {'Nelle Harper Lee'}\", 0, 'Capote', 'Nelle Harper Lee'), (2005, 'Actress -- Supporting Role', 'Frances McDormand', \"North Country {'Glory'}\", 0, 'North Country', 'Glory'), (2005, 'Actress -- Supporting Role', 'Rachel Weisz', \"The Constant Gardener {'Tessa Quayle'}\", 1, 'The Constant Gardener', 'Tessa Quayle'), (2005, 'Actress -- Supporting Role', 'Michelle Williams', \"Brokeback Mountain {'Alma'}\", 0, 'Brokeback Mountain', 'Alma'), (2004, 'Actor -- Leading Role', 'Don Cheadle', \"Hotel Rwanda {'Paul Rusesabagina'}\", 0, 'Hotel Rwanda', 'Paul Rusesabagina'), (2004, 'Actor -- Leading Role', 'Johnny Depp', \"Finding Neverland {'Sir James Matthew Barrie'}\", 0, 'Finding Neverland', 'Sir James Matthew Barrie'), (2004, 'Actor -- Leading Role', 'Leonardo DiCaprio', \"The Aviator {'Howard Hughes'}\", 0, 'The Aviator', 'Howard Hughes'), (2004, 'Actor -- Leading Role', 'Clint Eastwood', \"Million Dollar Baby {'Frankie Dunn'}\", 0, 'Million Dollar Baby', 'Frankie Dunn'), (2004, 'Actor -- Leading Role', 'Jamie Foxx', \"Ray {'Ray Charles'}\", 1, 'Ray', 'Ray Charles'), (2004, 'Actor -- Supporting Role', 'Alan Alda', \"The Aviator {'Senator Ralph Owen Brewster'}\", 0, 'The Aviator', 'Senator Ralph Owen Brewster'), (2004, 'Actor -- Supporting Role', 'Thomas Haden Church', \"Sideways {'Jack'}\", 0, 'Sideways', 'Jack'), (2004, 'Actor -- Supporting Role', 'Jamie Foxx', \"Collateral {'Max'}\", 0, 'Collateral', 'Max'), (2004, 'Actor -- Supporting Role', 'Morgan Freeman', \"Million Dollar Baby {'Eddie Scrap-Iron Dupris'}\", 1, 'Million Dollar Baby', 'Eddie Scrap-Iron Dupris'), (2004, 'Actor -- Supporting Role', 'Clive Owen', \"Closer {'Larry'}\", 0, 'Closer', 'Larry'), (2004, 'Actress -- Leading Role', 'Annette Bening', \"Being Julia {'Julia Lambert'}\", 0, 'Being Julia', 'Julia Lambert'), (2004, 'Actress -- Leading Role', 'Catalina Sandino Moreno', \"Maria Full of Grace {'Maria'}\", 0, 'Maria Full of Grace', 'Maria'), (2004, 'Actress -- Leading Role', 'Imelda Staunton', \"Vera Drake {'Vera'}\", 0, 'Vera Drake', 'Vera'), (2004, 'Actress -- Leading Role', 'Hilary Swank', \"Million Dollar Baby {'Maggie Fitzgerald'}\", 1, 'Million Dollar Baby', 'Maggie Fitzgerald'), (2004, 'Actress -- Leading Role', 'Kate Winslet', \"Eternal Sunshine of the Spotless Mind {'Clementine Kruczynski'}\", 0, 'Eternal Sunshine of the Spotless Mind', 'Clementine Kruczynski'), (2004, 'Actress -- Supporting Role', 'Cate Blanchett', \"The Aviator {'Katharine Hepburn'}\", 1, 'The Aviator', 'Katharine Hepburn'), (2004, 'Actress -- Supporting Role', 'Laura Linney', \"Kinsey {'Clara McMillen'}\", 0, 'Kinsey', 'Clara McMillen'), (2004, 'Actress -- Supporting Role', 'Virginia Madsen', \"Sideways {'Maya'}\", 0, 'Sideways', 'Maya'), (2004, 'Actress -- Supporting Role', 'Sophie Okonedo', \"Hotel Rwanda {'Tatiana Rusesabagina'}\", 0, 'Hotel Rwanda', 'Tatiana Rusesabagina'), (2004, 'Actress -- Supporting Role', 'Natalie Portman', \"Closer {'Alice'}\", 0, 'Closer', 'Alice'), (2003, 'Actor -- Leading Role', 'Johnny Depp', \"Pirates of the Caribbean: The Curse of the Black Pearl {'Jack Sparrow'}\", 0, 'Pirates of the Caribbean: The Curse of the Black Pearl', 'Jack Sparrow'), (2003, 'Actor -- Leading Role', 'Ben Kingsley', \"House of Sand and Fog {'Behrani'}\", 0, 'House of Sand and Fog', 'Behrani'), (2003, 'Actor -- Leading Role', 'Jude Law', \"Cold Mountain {'Inman'}\", 0, 'Cold Mountain', 'Inman'), (2003, 'Actor -- Leading Role', 'Bill Murray', \"Lost in Translation {'Bob Harris'}\", 0, 'Lost in Translation', 'Bob Harris'), (2003, 'Actor -- Leading Role', 'Sean Penn', \"Mystic River {'Jimmy Markum'}\", 1, 'Mystic River', 'Jimmy Markum'), (2003, 'Actor -- Supporting Role', 'Alec Baldwin', \"The Cooler {'Shelly Kaplow'}\", 0, 'The Cooler', 'Shelly Kaplow'), (2003, 'Actor -- Supporting Role', 'Benicio Del Toro', \"21 Grams {'Jack Jordan'}\", 0, '21 Grams', 'Jack Jordan'), (2003, 'Actor -- Supporting Role', 'Djimon Hounsou', \"In America {'Mateo'}\", 0, 'In America', 'Mateo'), (2003, 'Actor -- Supporting Role', 'Tim Robbins', \"Mystic River {'Dave Boyle'}\", 1, 'Mystic River', 'Dave Boyle'), (2003, 'Actor -- Supporting Role', 'Ken Watanabe', \"The Last Samurai {'Katsumoto'}\", 0, 'The Last Samurai', 'Katsumoto'), (2003, 'Actress -- Leading Role', 'Keisha Castle-Hughes', \"Whale Rider {'Paikea'}\", 0, 'Whale Rider', 'Paikea'), (2003, 'Actress -- Leading Role', 'Diane Keaton', \"Something's Gotta Give {'Erica Barry'}\", 0, \"Something's Gotta Give\", 'Erica Barry'), (2003, 'Actress -- Leading Role', 'Samantha Morton', \"In America {'Sarah'}\", 0, 'In America', 'Sarah'), (2003, 'Actress -- Leading Role', 'Charlize Theron', \"Monster {'Aileen Wuornos'}\", 1, 'Monster', 'Aileen Wuornos'), (2003, 'Actress -- Leading Role', 'Naomi Watts', \"21 Grams {'Cristina Peck'}\", 0, '21 Grams', 'Cristina Peck'), (2003, 'Actress -- Supporting Role', 'Shohreh Aghdashloo', \"House of Sand and Fog {'Nadi'}\", 0, 'House of Sand and Fog', 'Nadi'), (2003, 'Actress -- Supporting Role', 'Patricia Clarkson', \"Pieces of April {'Joy Burns'}\", 0, 'Pieces of April', 'Joy Burns'), (2003, 'Actress -- Supporting Role', 'Marcia Gay Harden', \"Mystic River {'Celeste Boyle'}\", 0, 'Mystic River', 'Celeste Boyle'), (2003, 'Actress -- Supporting Role', 'Holly Hunter', \"Thirteen {'Melanie'}\", 0, 'Thirteen', 'Melanie'), (2003, 'Actress -- Supporting Role', 'Renée Zellweger', \"Cold Mountain {'Ruby Thewes'}\", 1, 'Cold Mountain', 'Ruby Thewes'), (2002, 'Actor -- Leading Role', 'Adrien Brody', \"The Pianist {'Wladyslaw Szpilman'}\", 1, 'The Pianist', 'Wladyslaw Szpilman'), (2002, 'Actor -- Leading Role', 'Nicolas Cage', \"Adaptation {'Charlie Kaufman & Donald Kaufman'}\", 0, 'Adaptation', 'Charlie Kaufman & Donald Kaufman'), (2002, 'Actor -- Leading Role', 'Michael Caine', \"The Quiet American {'Thomas Fowler'}\", 0, 'The Quiet American', 'Thomas Fowler'), (2002, 'Actor -- Leading Role', 'Daniel Day-Lewis', \"Gangs of New York {'Bill 'The Butcher' Cutting'}\", 0, 'Gangs of New York', \"Bill 'The Butcher' Cutting\"), (2002, 'Actor -- Leading Role', 'Jack Nicholson', \"About Schmidt {'Warren Schmidt'}\", 0, 'About Schmidt', 'Warren Schmidt'), (2002, 'Actor -- Supporting Role', 'Chris Cooper', \"Adaptation {'John Laroche'}\", 1, 'Adaptation', 'John Laroche'), (2002, 'Actor -- Supporting Role', 'Ed Harris', \"The Hours {'Richard Brown'}\", 0, 'The Hours', 'Richard Brown'), (2002, 'Actor -- Supporting Role', 'Paul Newman', \"Road to Perdition {'John Rooney'}\", 0, 'Road to Perdition', 'John Rooney'), (2002, 'Actor -- Supporting Role', 'John C. Reilly', \"Chicago {'Amos Hart'}\", 0, 'Chicago', 'Amos Hart'), (2002, 'Actor -- Supporting Role', 'Christopher Walken', \"Catch Me If You Can {'Frank Abagnale'}\", 0, 'Catch Me If You Can', 'Frank Abagnale'), (2002, 'Actress -- Leading Role', 'Salma Hayek', \"Frida {'Frida Kahlo'}\", 0, 'Frida', 'Frida Kahlo'), (2002, 'Actress -- Leading Role', 'Nicole Kidman', \"The Hours {'Virginia Woolf'}\", 1, 'The Hours', 'Virginia Woolf'), (2002, 'Actress -- Leading Role', 'Diane Lane', \"Unfaithful {'Connie Sumner'}\", 0, 'Unfaithful', 'Connie Sumner'), (2002, 'Actress -- Leading Role', 'Julianne Moore', \"Far from Heaven {'Cathy Whitaker'}\", 0, 'Far from Heaven', 'Cathy Whitaker'), (2002, 'Actress -- Leading Role', 'Renée Zellweger', \"Chicago {'Roxie Hart'}\", 0, 'Chicago', 'Roxie Hart'), (2002, 'Actress -- Supporting Role', 'Kathy Bates', \"About Schmidt {'Roberta Hertzel'}\", 0, 'About Schmidt', 'Roberta Hertzel'), (2002, 'Actress -- Supporting Role', 'Julianne Moore', \"The Hours {'Laura Brown'}\", 0, 'The Hours', 'Laura Brown'), (2002, 'Actress -- Supporting Role', 'Queen Latifah', \"Chicago {'Matron Mama Morton'}\", 0, 'Chicago', 'Matron Mama Morton'), (2002, 'Actress -- Supporting Role', 'Meryl Streep', \"Adaptation {'Susan Orlean'}\", 0, 'Adaptation', 'Susan Orlean'), (2002, 'Actress -- Supporting Role', 'Catherine Zeta-Jones', \"Chicago {'Velma Kelly'}\", 1, 'Chicago', 'Velma Kelly'), (2001, 'Actor -- Leading Role', 'Russell Crowe', \"A Beautiful Mind {'John Nash'}\", 0, 'A Beautiful Mind', 'John Nash'), (2001, 'Actor -- Leading Role', 'Sean Penn', \"I Am Sam {'Sam Dawson'}\", 0, 'I Am Sam', 'Sam Dawson'), (2001, 'Actor -- Leading Role', 'Will Smith', \"Ali {'Muhammad Ali'}\", 0, 'Ali', 'Muhammad Ali'), (2001, 'Actor -- Leading Role', 'Denzel Washington', \"Training Day {'Alonzo'}\", 1, 'Training Day', 'Alonzo'), (2001, 'Actor -- Leading Role', 'Tom Wilkinson', \"In the Bedroom {'Matt Fowler'}\", 0, 'In the Bedroom', 'Matt Fowler'), (2001, 'Actor -- Supporting Role', 'Jim Broadbent', \"Iris {'John Bayley'}\", 1, 'Iris', 'John Bayley'), (2001, 'Actor -- Supporting Role', 'Ethan Hawke', \"Training Day {'Jake'}\", 0, 'Training Day', 'Jake'), (2001, 'Actor -- Supporting Role', 'Ben Kingsley', \"Sexy Beast {'Don Logan'}\", 0, 'Sexy Beast', 'Don Logan'), (2001, 'Actor -- Supporting Role', 'Ian McKellen', \"The Lord of the Rings: The Fellowship of the Ring {'Gandalf'}\", 0, 'The Lord of the Rings: The Fellowship of the Ring', 'Gandalf'), (2001, 'Actor -- Supporting Role', 'Jon Voight', \"Ali {'Howard Cosell'}\", 0, 'Ali', 'Howard Cosell'), (2001, 'Actress -- Leading Role', 'Halle Berry', \"Monster's Ball {'Leticia Musgrove'}\", 1, \"Monster's Ball\", 'Leticia Musgrove'), (2001, 'Actress -- Leading Role', 'Judi Dench', \"Iris {'Iris Murdoch'}\", 0, 'Iris', 'Iris Murdoch'), (2001, 'Actress -- Leading Role', 'Nicole Kidman', \"Moulin Rouge {'Satine'}\", 0, 'Moulin Rouge', 'Satine'), (2001, 'Actress -- Leading Role', 'Sissy Spacek', \"In the Bedroom {'Ruth Fowler'}\", 0, 'In the Bedroom', 'Ruth Fowler'), (2001, 'Actress -- Leading Role', 'Renée Zellweger', \"Bridget Jones's Diary {'Bridget Jones'}\", 0, \"Bridget Jones's Diary\", 'Bridget Jones'), (2001, 'Actress -- Supporting Role', 'Jennifer Connelly', \"A Beautiful Mind {'Alicia Nash'}\", 1, 'A Beautiful Mind', 'Alicia Nash'), (2001, 'Actress -- Supporting Role', 'Helen Mirren', \"Gosford Park {'Mrs. Wilson'}\", 0, 'Gosford Park', 'Mrs. Wilson'), (2001, 'Actress -- Supporting Role', 'Maggie Smith', \"Gosford Park {'Constance, Countess of Trentham'}\", 0, 'Gosford Park', 'Constance, Countess of Trentham'), (2001, 'Actress -- Supporting Role', 'Marisa Tomei', \"In the Bedroom {'Natalie Strout'}\", 0, 'In the Bedroom', 'Natalie Strout'), (2001, 'Actress -- Supporting Role', 'Kate Winslet', \"Iris {'Young Iris Murdoch'}\", 0, 'Iris', 'Young Iris Murdoch')]\n"
     ]
    }
   ],
   "source": [
    "print(conn.execute('PRAGMA table_info(\"nominations\")').fetchall())\n",
    "print(conn.execute('SELECT * FROM nominations LIMIT10').fetchall())\n",
    "conn.close()"
   ]
  }
 ],
 "metadata": {
  "kernelspec": {
   "display_name": "Python 3",
   "language": "python",
   "name": "python3"
  },
  "language_info": {
   "codemirror_mode": {
    "name": "ipython",
    "version": 3
   },
   "file_extension": ".py",
   "mimetype": "text/x-python",
   "name": "python",
   "nbconvert_exporter": "python",
   "pygments_lexer": "ipython3",
   "version": "3.4.3"
  }
 },
 "nbformat": 4,
 "nbformat_minor": 0
}
